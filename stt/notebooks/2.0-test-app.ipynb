{
 "cells": [
  {
   "cell_type": "code",
   "execution_count": 15,
   "metadata": {},
   "outputs": [
    {
     "data": {
      "text/plain": [
       "True"
      ]
     },
     "execution_count": 15,
     "metadata": {},
     "output_type": "execute_result"
    }
   ],
   "source": [
    "import sys\n",
    "sys.path.insert(0, \"..\")\n",
    "import os\n",
    "from dotenv import load_dotenv\n",
    "from typing import Optional, List\n",
    "from azure.core.credentials import AzureSasCredential\n",
    "#from azure.core.exceptions import ResourceNotFoundError\n",
    "from azure.storage.blob import ContentSettings, PublicAccess\n",
    "from azure.storage.blob.aio import BlobServiceClient, ContainerClient\n",
    "from azure.identity import DefaultAzureCredential, get_bearer_token_provider\n",
    "from openai import AzureOpenAI\n",
    "from app.services.azure_store_service import AzureStoreService\n",
    "from app.services.stt_service import SttService\n",
    "from uuid import uuid4\n",
    "import unittest\n",
    "import json\n",
    "\n",
    "from loguru import logger\n",
    "load_dotenv(\"../.dev.env\")"
   ]
  },
  {
   "cell_type": "code",
   "execution_count": 33,
   "metadata": {},
   "outputs": [],
   "source": [
    "def generate_id():\n",
    "    return str(uuid4())"
   ]
  },
  {
   "cell_type": "code",
   "execution_count": 34,
   "metadata": {},
   "outputs": [
    {
     "data": {
      "text/plain": [
       "'afb73f48-9008-4120-8918-52790c437fab'"
      ]
     },
     "execution_count": 34,
     "metadata": {},
     "output_type": "execute_result"
    }
   ],
   "source": [
    "user_id = generate_id()\n",
    "user_id"
   ]
  },
  {
   "cell_type": "code",
   "execution_count": 35,
   "metadata": {},
   "outputs": [],
   "source": [
    "account_url = os.getenv(\"AZURE_ACCOUNT_URL\")\n",
    "#connection_string = os.getenv(\"AZURE_STORAGE_CONNECTION_STRING\")\n",
    "user_id = generate_id()\n",
    "container_name = \"worklog-s2t\"\n",
    "\n",
    "endpoint = os.environ[\"AZURE_OPENAI_ENDPOINT\"]\n",
    "chat_deployment = os.getenv(\"AZURE_GPT_DEPLOYMENT_NAME\")\n",
    "      \n",
    "token_provider = get_bearer_token_provider(DefaultAzureCredential(), \"https://cognitiveservices.azure.com/.default\")\n",
    "\n",
    "client = AzureOpenAI(\n",
    "    azure_endpoint=endpoint,\n",
    "    azure_ad_token_provider=token_provider,\n",
    "    api_version=\"2024-02-01\",\n",
    ")"
   ]
  },
  {
   "cell_type": "code",
   "execution_count": 36,
   "metadata": {},
   "outputs": [
    {
     "name": "stdout",
     "output_type": "stream",
     "text": [
      "Transcription(text=\"De melding is van werkoorder 766414 is de deur defect, deur 3. Oké, fotocel zender is vervangen. De melding was fotocel deur 3B blijft geblokkeerd staan. Dat is gelijk niet zo'n heel duidelijk logboek. Lijst, pakken we een andere.\")\n"
     ]
    }
   ],
   "source": [
    "speech_deployment = os.getenv(\"AZURE_SPEECH_DEPLOYMENT_NAME\")\n",
    "audio_test_file = \"../app/data/1_766414.wav\"\n",
    "    \n",
    "result = client.audio.transcriptions.create(\n",
    "    file=open(audio_test_file, \"rb\"),            \n",
    "    model=speech_deployment\n",
    "    )\n",
    "    \n",
    "print(result)"
   ]
  },
  {
   "cell_type": "code",
   "execution_count": 38,
   "metadata": {},
   "outputs": [
    {
     "data": {
      "text/plain": [
       "\"De melding is van werkoorder 766414 is de deur defect, deur 3. Oké, fotocel zender is vervangen. De melding was fotocel deur 3B blijft geblokkeerd staan. Dat is gelijk niet zo'n heel duidelijk logboek. Lijst, pakken we een andere.\""
      ]
     },
     "execution_count": 38,
     "metadata": {},
     "output_type": "execute_result"
    }
   ],
   "source": [
    "result.text"
   ]
  },
  {
   "cell_type": "code",
   "execution_count": 52,
   "metadata": {},
   "outputs": [],
   "source": [
    "from langchain_core.prompts import ChatPromptTemplate\n",
    "from langchain_openai import AzureChatOpenAI\n",
    "from azure.identity import DefaultAzureCredential, get_bearer_token_provider\n",
    "import os\n",
    "\n",
    "endpoint = os.environ[\"AZURE_OPENAI_ENDPOINT\"]\n",
    "token_provider = get_bearer_token_provider(\n",
    "            DefaultAzureCredential(), \"https://cognitiveservices.azure.com/.default\")\n",
    "\n",
    "langchain_llm = AzureChatOpenAI(\n",
    "    model=os.environ[\"AZURE_GPT_DEPLOYMENT_NAME\"],\n",
    "    azure_endpoint=endpoint,\n",
    "    azure_ad_token_provider=token_provider,\n",
    "    api_version=\"2024-02-01\",\n",
    "    )"
   ]
  },
  {
   "cell_type": "code",
   "execution_count": 53,
   "metadata": {},
   "outputs": [],
   "source": [
    "from pathlib import Path\n",
    "\n",
    "human_prompt = Path('../app/prompts/storingstemplate.txt').read_text()\n",
    "\n",
    "system_prompt = Path('../app/prompts/systeem_prompt.txt').read_text()"
   ]
  },
  {
   "cell_type": "code",
   "execution_count": 54,
   "metadata": {},
   "outputs": [
    {
     "data": {
      "text/plain": [
       "'Jij bent een Nederlandstalige AI-assistent die trambestuurders en monteurs helpt bij het versturen van meldingen of het stellen van vragen over storingen of reparaties.\\nDe invoer in jouw systeem mag in verschillende talen zijn, maar jouw uitvoer moet in het Nederlands zijn.\\nZowel in de invoer als in de uitvoer kunnen in de overigens Nederlandse tekst technische werkvoorwaarden in het Engels voorkomen.'"
      ]
     },
     "execution_count": 54,
     "metadata": {},
     "output_type": "execute_result"
    }
   ],
   "source": [
    "system_prompt"
   ]
  },
  {
   "cell_type": "code",
   "execution_count": 55,
   "metadata": {},
   "outputs": [],
   "source": [
    "prompt_template = ChatPromptTemplate.from_messages(\n",
    "            [\n",
    "                (\"system\", system_prompt),\n",
    "                (\"human\", human_prompt),\n",
    "            ]\n",
    "        )\n",
    "chain = prompt_template | langchain_llm\n",
    "answer_object = chain.invoke(\n",
    "        {\n",
    "                \"language\": \"nl\",\n",
    "                \"transcript\": result.text,\n",
    "            }\n",
    "        )"
   ]
  },
  {
   "cell_type": "code",
   "execution_count": 56,
   "metadata": {},
   "outputs": [
    {
     "data": {
      "text/plain": [
       "'Bedankt voor de informatie, ik ga nu de gegeven tekst vertalen naar de gedefinieerde template: \\n\\n1. Specifiek onderdeel van het voertuig waar de storing optrad:\\n    a. Bij een deurstoring, welke deur? Deur 3B.\\n    \\n2. Aanleiding- Korte omschrijving van de aanleiding voor de storing:\\n    a. Bestuurder of monteur constateert een probleem en rapporteert deze. De melding was fotocel deur 3B blijft geblokkeerd staan.\\n\\n3. Type Storing: Korte omschrijving van het type storing. Deurstoring - defecte fotocel.\\n\\n4. Gedetailleerde Omschrijving: Deur 3B had een defecte fotocel die ervoor zorgde dat de deur geblokkeerd bleef staan.\\n\\n5. Ondernomen Acties: De fotocel zender van deur 3B is vervangen om het probleem te verhelpen.\\n\\n6. Verbruikte Materialen: **Niet gespecificeerd in de geleverde tekst, maar vermoedelijk is er een nieuwe fotocel zender gebruikt.**\\n\\n7. Resultaat: **Niet gespecificeerd in de geleverde tekst, het is niet duidelijk of de storing volledig is opgelost na het vervangen van de fotocel zender.**\\n\\n8. Aanbevelingen voor Toekomstige Preventie: **Niet gespecificeerd in de geleverde tekst, er zijn geen aanbevelingen gegeven voor toekomstige preventie.**\\n\\n9. Opmerkingen: De werkorder was nummer 766414. De oorspronkelijke logboekmelding werd beschouwd als niet heel duidelijk.'"
      ]
     },
     "execution_count": 56,
     "metadata": {},
     "output_type": "execute_result"
    }
   ],
   "source": [
    "answer_object.content"
   ]
  },
  {
   "cell_type": "code",
   "execution_count": null,
   "metadata": {},
   "outputs": [],
   "source": []
  }
 ],
 "metadata": {
  "kernelspec": {
   "display_name": "stt-XDHCO8t0-py3.12",
   "language": "python",
   "name": "python3"
  },
  "language_info": {
   "codemirror_mode": {
    "name": "ipython",
    "version": 3
   },
   "file_extension": ".py",
   "mimetype": "text/x-python",
   "name": "python",
   "nbconvert_exporter": "python",
   "pygments_lexer": "ipython3",
   "version": "3.12.0"
  }
 },
 "nbformat": 4,
 "nbformat_minor": 2
}
