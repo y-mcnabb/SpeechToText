{
 "cells": [
  {
   "cell_type": "code",
   "execution_count": null,
   "metadata": {},
   "outputs": [],
   "source": [
    "import sys\n",
    "sys.path.insert(0, \"..\")\n",
    "\n",
    "from dotenv import load_dotenv\n",
    "from stt.utils import (\n",
    "    convert_to_wav,\n",
    "    initialise_azure_openai_speech, \n",
    "    initialise_azure_openai_chat,\n",
    "    read_text_file,\n",
    "    write_to_file_with_line_breaks,\n",
    "    convert_any_to_wav,\n",
    "    calculate_word_error_rate\n",
    ")\n",
    "from stt.transcribe import (\n",
    "    transcribe_audio,\n",
    ")\n",
    "from stt.chat import(\n",
    "    response_review_transcription,\n",
    "    response_repair_report\n",
    ")\n",
    "import os\n",
    "from pydub import AudioSegment\n",
    "import pandas as pd\n",
    "import matplotlib.pyplot as plt\n",
    "from openai import AzureOpenAI\n",
    "\n",
    "load_dotenv()"
   ]
  },
  {
   "cell_type": "code",
   "execution_count": null,
   "metadata": {},
   "outputs": [],
   "source": [
    "path_to_raw_files = \"../data/samples/raw_m4a_files/\"\n",
    "os.listdir(path_to_raw_files)"
   ]
  },
  {
   "cell_type": "code",
   "execution_count": null,
   "metadata": {},
   "outputs": [],
   "source": [
    "path_to_processed_files = \"../data/samples/converted_wav_files/\"\n",
    "#os.makedirs(path_to_processed_files)"
   ]
  },
  {
   "cell_type": "code",
   "execution_count": null,
   "metadata": {},
   "outputs": [],
   "source": [
    "for file in raw_file_names:\n",
    "    convert_any_to_wav(f\"{path_to_raw_files}{file}\", f\"{path_to_processed_files}{file.split('.')[0]}.wav\")"
   ]
  },
  {
   "cell_type": "code",
   "execution_count": null,
   "metadata": {},
   "outputs": [],
   "source": [
    "processed_file_names = os.listdir(path_to_processed_files)"
   ]
  },
  {
   "cell_type": "code",
   "execution_count": null,
   "metadata": {},
   "outputs": [],
   "source": [
    "path_raw_transcripts = \"../data/transcripts/raw/\"\n",
    "#os.makedirs(path_raw_transcripts)"
   ]
  },
  {
   "cell_type": "code",
   "execution_count": null,
   "metadata": {},
   "outputs": [],
   "source": [
    "transcript_ex = transcribe_audio(f\"{path_to_processed_files}{processed_file_names[0]}\")\n",
    "print(transcript_ex)"
   ]
  },
  {
   "cell_type": "code",
   "execution_count": null,
   "metadata": {},
   "outputs": [],
   "source": [
    "for audio_file in processed_file_names:\n",
    "    audio_file_path = f\"{path_to_processed_files}{audio_file}\"\n",
    "    transcript_ex = transcribe_audio(audio_file_path)\n",
    "    raw_transcript_path_name = f\"{path_raw_transcripts}{audio_file.split('.')[0]}_raw_transcript.txt\"\n",
    "    write_to_file_with_line_breaks(transcript_ex, raw_transcript_path_name)"
   ]
  },
  {
   "cell_type": "code",
   "execution_count": null,
   "metadata": {},
   "outputs": [],
   "source": [
    "ex_raw_transcript_path = f\"{path_raw_transcripts}{os.listdir(path_raw_transcripts)[0]}\"\n"
   ]
  },
  {
   "cell_type": "code",
   "execution_count": null,
   "metadata": {},
   "outputs": [],
   "source": [
    "os.listdir(path_raw_transcripts)[0].replace('raw', 'corrected')"
   ]
  },
  {
   "cell_type": "code",
   "execution_count": null,
   "metadata": {},
   "outputs": [],
   "source": [
    "ex_raw_transcript_path"
   ]
  },
  {
   "cell_type": "code",
   "execution_count": null,
   "metadata": {},
   "outputs": [],
   "source": [
    "ex_raw_transcript = read_text_file(ex_raw_transcript_path)"
   ]
  },
  {
   "cell_type": "code",
   "execution_count": null,
   "metadata": {},
   "outputs": [],
   "source": [
    "ex_raw_transcript"
   ]
  },
  {
   "cell_type": "code",
   "execution_count": null,
   "metadata": {},
   "outputs": [],
   "source": [
    "path_corrected_transcripts = \"../data/transcripts/corrected/\"\n",
    "#os.makedirs(path_corrected_transcripts)"
   ]
  },
  {
   "cell_type": "code",
   "execution_count": null,
   "metadata": {},
   "outputs": [],
   "source": [
    "corrected_transcript = response_review_transcription(ex_raw_transcript)\n",
    "write_to_file_with_line_breaks(\n",
    "    corrected_transcript, \n",
    "    f\"{path_corrected_transcripts}{os.listdir(path_raw_transcripts)[0].replace('raw', 'corrected')}\")"
   ]
  },
  {
   "cell_type": "code",
   "execution_count": null,
   "metadata": {},
   "outputs": [],
   "source": [
    "raw_transcript_file_names = os.listdir(path_raw_transcripts)\n",
    "raw_transcript_file_names"
   ]
  },
  {
   "cell_type": "code",
   "execution_count": null,
   "metadata": {},
   "outputs": [],
   "source": [
    "for raw_file_name in raw_transcript_file_names:\n",
    "    raw_transcript_path = f\"{path_raw_transcripts}{raw_file_name}\"\n",
    "    raw_transcript = read_text_file(raw_transcript_path)\n",
    "    corrected_transcript = response_review_transcription(raw_transcript)\n",
    "    corrected_file_name = raw_file_name.replace('raw', 'corrected')\n",
    "    write_to_file_with_line_breaks(\n",
    "        corrected_transcript, \n",
    "        f\"{path_corrected_transcripts}{corrected_file_name}\")\n"
   ]
  },
  {
   "cell_type": "code",
   "execution_count": null,
   "metadata": {},
   "outputs": [],
   "source": [
    "proofreading_prompt = \"You are a helpful assistant for the public transit authority HTM. Your task is to correct any spelling discrepancies in the transcribed text. Make sure that the names of the following systems and streets are spelled correctly: {vocabulary}. Only add necessary punctuation such as periods, commas, and capitalization, and use only the context provided. Add ** between every word that is corrected.\"\n",
    "\n",
    "def generate_corrected_transcript(temperature, system_prompt, vocabulary, transcript):\n",
    "    client = initialise_azure_openai_chat()\n",
    "    response = client.chat.completions.create(\n",
    "        model=os.getenv(\"AZURE_GPT_DEPLOYMENT_NAME\"),\n",
    "        temperature=temperature,\n",
    "        messages=[\n",
    "            {\n",
    "                \"role\": \"system\",\n",
    "                \"content\": system_prompt.format(vocabulary=vocabulary)\n",
    "            },\n",
    "            {\n",
    "                \"role\": \"user\",\n",
    "                \"content\": f\"Here is the text to be corrected: {transcript}\"\n",
    "            },\n",
    "        ],\n",
    "    )\n",
    "    return response.choices[0].message.content"
   ]
  },
  {
   "cell_type": "code",
   "execution_count": null,
   "metadata": {},
   "outputs": [],
   "source": [
    "vocabulary = pd.read_csv(\"../data/context/woordenlijst_werk_termen_20240304.csv\", sep=\";\")['words'].tolist()[:10000]\n",
    "vocabulary"
   ]
  },
  {
   "cell_type": "code",
   "execution_count": null,
   "metadata": {},
   "outputs": [],
   "source": [
    "transcript_ex = read_text_file(f\"{path_to_raw_transcripts_files}{raw_transcript_file_names[0]}\")\n",
    "transcript_ex = transcript_ex.strip().replace(\"\\n\", \"\").replace(\"  \", \" \")\n",
    "corrected_text = generate_corrected_transcript(0, proofreading_prompt, vocabulary, transcript_ex)\n",
    "print(corrected_text)"
   ]
  },
  {
   "cell_type": "code",
   "execution_count": null,
   "metadata": {},
   "outputs": [],
   "source": [
    "path_to_raw_transcripts_files = \"../data/transcripts/raw/\"\n",
    "path_to_gold_transcripts_files = \"../data/transcripts/gold/\""
   ]
  },
  {
   "cell_type": "code",
   "execution_count": null,
   "metadata": {},
   "outputs": [],
   "source": [
    "os.listdir(path_to_raw_transcripts_files)"
   ]
  },
  {
   "cell_type": "code",
   "execution_count": null,
   "metadata": {},
   "outputs": [],
   "source": [
    "os.listdir(path_to_gold_transcripts_files)"
   ]
  },
  {
   "cell_type": "code",
   "execution_count": null,
   "metadata": {},
   "outputs": [],
   "source": [
    "raw_transcript_file_names = os.listdir(path_to_raw_transcripts_files)\n",
    "gold_transcript_file_names = os.listdir(path_to_gold_transcripts_files)"
   ]
  },
  {
   "cell_type": "code",
   "execution_count": null,
   "metadata": {},
   "outputs": [],
   "source": [
    "raw_transcript_file_names.sort()\n",
    "gold_transcript_file_names.sort()\n"
   ]
  },
  {
   "cell_type": "code",
   "execution_count": null,
   "metadata": {},
   "outputs": [],
   "source": [
    "raw_transcript_file_names"
   ]
  },
  {
   "cell_type": "code",
   "execution_count": null,
   "metadata": {},
   "outputs": [],
   "source": [
    "gold_transcript_file_names"
   ]
  },
  {
   "cell_type": "code",
   "execution_count": null,
   "metadata": {},
   "outputs": [],
   "source": [
    "transcript_scores = {}\n",
    "transcript_directory = \"/\"\n",
    "#transcript_scores['raw_path'] = os.listdir(path_to_raw_transcripts_files)\n",
    "transcript_scores['raw_name'] = [raw_path.split('_raw')[0] for raw_path in raw_transcript_file_names]\n",
    "#transcript_scores['gold_path'] = os.listdir(path_to_gold_transcripts_files)\n",
    "transcript_scores['gold_name'] = [gold_path.split('_gold')[0] for gold_path in gold_transcript_file_names]\n",
    "transcript_scores['raw_text'] = [read_text_file(f\"{path_to_raw_transcripts_files}{raw_file}\") for raw_file in raw_transcript_file_names]\n",
    "transcript_scores['gold_text'] = [read_text_file(f\"{path_to_gold_transcripts_files}{gold_file}\") for gold_file in gold_transcript_file_names]\n",
    "\n"
   ]
  },
  {
   "cell_type": "code",
   "execution_count": null,
   "metadata": {},
   "outputs": [],
   "source": [
    "transcript_scores_df = pd.DataFrame(transcript_scores)"
   ]
  },
  {
   "cell_type": "code",
   "execution_count": null,
   "metadata": {},
   "outputs": [],
   "source": [
    "for col in ['raw_text', 'gold_text']:\n",
    "     transcript_scores_df[col] = transcript_scores_df[col].str.replace('\\n', ' ')"
   ]
  },
  {
   "cell_type": "code",
   "execution_count": null,
   "metadata": {},
   "outputs": [],
   "source": [
    "transcript_scores_df['wer'] = transcript_scores_df.apply(lambda x: calculate_word_error_rate(x.gold_text, x.raw_text), axis = 1)"
   ]
  },
  {
   "cell_type": "code",
   "execution_count": null,
   "metadata": {},
   "outputs": [],
   "source": [
    "transcript_scores_df['accuracy'] = 1 - transcript_scores_df['wer']"
   ]
  },
  {
   "cell_type": "code",
   "execution_count": null,
   "metadata": {},
   "outputs": [],
   "source": [
    "transcript_scores_df.to_csv(\"transcript_scores_data.csv\", sep=';', decimal=',')"
   ]
  },
  {
   "cell_type": "code",
   "execution_count": null,
   "metadata": {},
   "outputs": [],
   "source": [
    "transcript_scores_df.plot()"
   ]
  },
  {
   "cell_type": "code",
   "execution_count": null,
   "metadata": {},
   "outputs": [],
   "source": [
    "transcript_scores_df.describe()"
   ]
  },
  {
   "cell_type": "code",
   "execution_count": null,
   "metadata": {},
   "outputs": [],
   "source": [
    "print(read_text_file(\"../src/stt/prompts/storingstemplate.txt\"))\n",
    "#/Users/YaronMcNabb_1/Documents/htm-speech-to-text-app/src/stt/prompts/stroingstemplate.txt"
   ]
  },
  {
   "cell_type": "code",
   "execution_count": null,
   "metadata": {},
   "outputs": [],
   "source": [
    "system_prompt_path = \"../src/stt/prompts/system_prompt.txt\"\n",
    "human_prompt_path = \"../src/stt/prompts/storingstemplate.txt\"\n",
    "\n",
    "system_prompt = read_text_file(system_prompt_path)\n",
    "human_prompt = read_text_file(human_prompt_path)\n",
    "transcript = read_text_file(\"../data/transcripts/raw/1_766414_raw_transcript.txt\")"
   ]
  },
  {
   "cell_type": "code",
   "execution_count": null,
   "metadata": {},
   "outputs": [],
   "source": [
    "werklograppot = response_repair_report(\"../src/stt/prompts/system_prompt.txt\",\n",
    "                       \"../src/stt/prompts/storingstemplate.txt\",\n",
    "                       \"../data/transcripts/raw/1_766414_raw_transcript.txt\")"
   ]
  },
  {
   "cell_type": "code",
   "execution_count": null,
   "metadata": {},
   "outputs": [],
   "source": [
    "print(werklograppot)"
   ]
  },
  {
   "cell_type": "code",
   "execution_count": null,
   "metadata": {},
   "outputs": [],
   "source": [
    "write_to_file_with_line_breaks(werklograppot, \"../data/reports/1_766414.txt\")"
   ]
  },
  {
   "cell_type": "code",
   "execution_count": null,
   "metadata": {},
   "outputs": [],
   "source": [
    "raw_transcript_file_names"
   ]
  },
  {
   "cell_type": "code",
   "execution_count": null,
   "metadata": {},
   "outputs": [],
   "source": [
    "def create_write_report(system_prompt_path, human_prompt_path, transcript_path, report_path):\n",
    "    report = response_repair_report(system_prompt_path, human_prompt_path, transcript_path)\n",
    "    write_to_file_with_line_breaks(report, report_path)"
   ]
  },
  {
   "cell_type": "code",
   "execution_count": null,
   "metadata": {},
   "outputs": [],
   "source": [
    "for transcript in raw_transcript_file_names:\n",
    "    transcript_path = f\"../data/transcripts/raw/{transcript}\"\n",
    "    report_path = f\"../data/reports/{transcript.split('_raw')[0]}.txt\"\n",
    "    create_write_report(system_prompt_path, human_prompt_path, transcript_path, report_path)"
   ]
  },
  {
   "cell_type": "code",
   "execution_count": null,
   "metadata": {},
   "outputs": [],
   "source": [
    "raw_transcript_file_names"
   ]
  },
  {
   "cell_type": "code",
   "execution_count": null,
   "metadata": {},
   "outputs": [],
   "source": []
  },
  {
   "cell_type": "code",
   "execution_count": null,
   "metadata": {},
   "outputs": [],
   "source": [
    "transcript in raw_transcript_file_names:\n",
    "    transcript_path = f\"../data/transcripts/raw/{transcript}\"\n",
    "    report_path = f\"../data/reports/{transcript.split('_raw')[0]}.txt\"\n",
    "    create_write_report(system_prompt_path, human_prompt_path, transcript_path, report_path)"
   ]
  },
  {
   "cell_type": "code",
   "execution_count": null,
   "metadata": {},
   "outputs": [],
   "source": [
    "transcript = '2_300099_raw_transcript.txt'\n",
    "transcript_path = f\"../data/transcripts/raw/{transcript}\"\n",
    "report_path = f\"../data/reports/{transcript.split('_raw')[0]}.txt\"\n",
    "create_write_report(system_prompt_path, human_prompt_path, transcript_path, report_path)"
   ]
  },
  {
   "cell_type": "code",
   "execution_count": null,
   "metadata": {},
   "outputs": [],
   "source": []
  }
 ],
 "metadata": {
  "kernelspec": {
   "display_name": ".venv",
   "language": "python",
   "name": "python3"
  },
  "language_info": {
   "codemirror_mode": {
    "name": "ipython",
    "version": 3
   },
   "file_extension": ".py",
   "mimetype": "text/x-python",
   "name": "python",
   "nbconvert_exporter": "python",
   "pygments_lexer": "ipython3",
   "version": "3.12.0"
  }
 },
 "nbformat": 4,
 "nbformat_minor": 2
}
